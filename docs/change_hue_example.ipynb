{
 "cells": [
  {
   "cell_type": "markdown",
   "metadata": {},
   "source": [
    "## Change Hue\n",
    "\n",
    "### Introduction\n",
    "Hue modification is a fundamental aspect of image processing. It involves altering the color properties of an image to achieve desired aesthetic or analytical outcomes. In this context, we introduce the `change_hue` function from the `visumorph` package, designed to adjust the hue of an image efficiently and effectively.\n",
    "The `change_hue` function serves to blend a given image with a specified color layer, altering its hue. This function finds applications in areas such as artistic image transformation, data visualization, and preprocessing in machine learning pipelines where color normalization or adjustment is required."
   ]
  },
  {
   "cell_type": "markdown",
   "metadata": {},
   "source": [
    "## Importing libraries\n",
    "**visumorph**: For handling image-specific data structures and functions."
   ]
  },
  {
   "cell_type": "code",
   "execution_count": 7,
   "metadata": {},
   "outputs": [],
   "source": [
    "from visumorph import change_hue\n",
    "from visumorph.Image import load_image\n",
    "from visumorph import Image"
   ]
  },
  {
   "cell_type": "markdown",
   "metadata": {},
   "source": [
    "## Loading data\n",
    "This code demonstrates loading an image using `load_image` function. The image file should be in a format compatible with the library (JPG or PNG).\n"
   ]
  },
  {
   "cell_type": "code",
   "execution_count": 13,
   "metadata": {},
   "outputs": [],
   "source": [
    "img = load_image(\"/Users/atabak/MDS/524-collaborative/VisuMorph/tests/img/raw/meme.jpg\")"
   ]
  },
  {
   "cell_type": "markdown",
   "metadata": {},
   "source": [
    "## Input Image"
   ]
  },
  {
   "cell_type": "code",
   "execution_count": null,
   "metadata": {},
   "outputs": [],
   "source": []
  }
 ],
 "metadata": {
  "kernelspec": {
   "display_name": "visumorph",
   "language": "python",
   "name": "python3"
  },
  "language_info": {
   "codemirror_mode": {
    "name": "ipython",
    "version": 3
   },
   "file_extension": ".py",
   "mimetype": "text/x-python",
   "name": "python",
   "nbconvert_exporter": "python",
   "pygments_lexer": "ipython3",
   "version": "3.12.1"
  }
 },
 "nbformat": 4,
 "nbformat_minor": 2
}
